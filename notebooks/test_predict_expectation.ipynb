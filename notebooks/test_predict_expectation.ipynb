{
 "metadata": {
  "language_info": {
   "codemirror_mode": {
    "name": "ipython",
    "version": 3
   },
   "file_extension": ".py",
   "mimetype": "text/x-python",
   "name": "python",
   "nbconvert_exporter": "python",
   "pygments_lexer": "ipython3",
   "version": "3.9.0"
  },
  "orig_nbformat": 2,
  "kernelspec": {
   "name": "python390jvsc74a57bd07cc55218f2f81289f1242b568b84e7e3b99ccb78d9bfc1ba425b7a81c1869e3f",
   "display_name": "Python 3.9.0 64-bit ('scikit-survival')"
  },
  "metadata": {
   "interpreter": {
    "hash": "7cc55218f2f81289f1242b568b84e7e3b99ccb78d9bfc1ba425b7a81c1869e3f"
   }
  }
 },
 "nbformat": 4,
 "nbformat_minor": 2,
 "cells": [
  {
   "cell_type": "code",
   "execution_count": 1,
   "metadata": {},
   "outputs": [],
   "source": [
    "import matplotlib.pyplot as plt\n",
    "from sksurv.datasets import load_whas500\n",
    "from sksurv.linear_model import CoxPHSurvivalAnalysis"
   ]
  },
  {
   "cell_type": "code",
   "execution_count": 4,
   "metadata": {},
   "outputs": [],
   "source": [
    "X, y = load_whas500()\n",
    "X = X.astype(float)"
   ]
  },
  {
   "cell_type": "code",
   "execution_count": 5,
   "metadata": {},
   "outputs": [],
   "source": [
    "estimator = CoxPHSurvivalAnalysis().fit(X, y)"
   ]
  },
  {
   "cell_type": "code",
   "execution_count": 6,
   "metadata": {},
   "outputs": [],
   "source": [
    "surv_funcs = estimator.predict_survival_function(X.iloc[:10])"
   ]
  },
  {
   "cell_type": "code",
   "execution_count": 7,
   "metadata": {},
   "outputs": [
    {
     "output_type": "execute_result",
     "data": {
      "text/plain": [
       "array([1084.40037472, 2042.63849947, 1857.65394269, 1533.32033002,\n",
       "       1899.59153289, 1271.93594139, 2243.54356349, 2088.30986101,\n",
       "       1105.95162941, 2001.53004857])"
      ]
     },
     "metadata": {},
     "execution_count": 7
    }
   ],
   "source": [
    "estimator.predict_expectation(X.iloc[:10])"
   ]
  }
 ]
}